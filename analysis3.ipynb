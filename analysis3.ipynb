{
 "cells": [
  {
   "cell_type": "code",
   "execution_count": null,
   "metadata": {},
   "outputs": [],
   "source": [
    "%pip install giza-datasets"
   ]
  },
  {
   "cell_type": "code",
   "execution_count": null,
   "metadata": {},
   "outputs": [],
   "source": [
    "%pip install plotly pandas nbformat numpy scikit-learn xgboost matplotlib seaborn hvplot"
   ]
  },
  {
   "cell_type": "code",
   "execution_count": null,
   "metadata": {},
   "outputs": [],
   "source": [
    "import certifi\n",
    "import os\n",
    "os.environ['SSL-CERT_FILE'] = certifi.where()\n",
    "from giza_datasets import DatasetsLoader\n",
    "\n",
    "\n",
    "loader = DatasetsLoader()\n",
    "df = loader.load(\"gora-competition-training\")\n",
    "# df = loader.load('yearn-individual-deposits')"
   ]
  },
  {
   "cell_type": "code",
   "execution_count": null,
   "metadata": {},
   "outputs": [],
   "source": [
    "import polars as pl"
   ]
  },
  {
   "cell_type": "code",
   "execution_count": null,
   "metadata": {},
   "outputs": [],
   "source": [
    "df.head()"
   ]
  },
  {
   "cell_type": "code",
   "execution_count": null,
   "metadata": {},
   "outputs": [],
   "source": [
    "import plotly.express as px\n",
    "\n",
    "fig = px.scatter(x=df[\"total_deposit\"], y=df[\"total_borrow\"],color=df[\"liquidated_color\"])\n",
    "fig.show()"
   ]
  },
  {
   "cell_type": "code",
   "execution_count": null,
   "metadata": {},
   "outputs": [],
   "source": [
    "df[\"token_borrow_mode\"].unique()"
   ]
  },
  {
   "cell_type": "code",
   "execution_count": null,
   "metadata": {},
   "outputs": [],
   "source": [
    "df2 = df[\"count_borrow\"].sum().group_by()\n",
    "\n",
    "fig = px.bar(df, x='token_borrow_mode', y='count_borrow')\n",
    "fig.show()"
   ]
  },
  {
   "cell_type": "code",
   "execution_count": null,
   "metadata": {},
   "outputs": [],
   "source": [
    "df2 = df.select(pl.col([\"token_borrow_mode\", \"count_borrow\"]))\n",
    "df2"
   ]
  },
  {
   "cell_type": "code",
   "execution_count": null,
   "metadata": {},
   "outputs": [],
   "source": [
    "df.group_by(\"token_borrow_mode\").count()"
   ]
  },
  {
   "cell_type": "code",
   "execution_count": null,
   "metadata": {},
   "outputs": [],
   "source": [
    "df = df.with_columns(token_borrow_mode = df[\"token_borrow_mode\"].str.to_lowercase())"
   ]
  },
  {
   "cell_type": "code",
   "execution_count": null,
   "metadata": {},
   "outputs": [],
   "source": [
    "with pl.Config(tbl_rows=52):\n",
    "    print(df[\"token_borrow_mode\"].unique())"
   ]
  },
  {
   "cell_type": "code",
   "execution_count": null,
   "metadata": {},
   "outputs": [],
   "source": [
    "with pl.Config(tbl_rows=52):\n",
    "    print(df.group_by(\"token_borrow_mode\").agg(\n",
    "        pl.col(\"liquidated\").sum()\n",
    "    ))"
   ]
  },
  {
   "cell_type": "code",
   "execution_count": null,
   "metadata": {},
   "outputs": [],
   "source": [
    "df[\"liquidated\"].unique()"
   ]
  },
  {
   "cell_type": "code",
   "execution_count": null,
   "metadata": {},
   "outputs": [],
   "source": [
    "df.filter(df[\"total_liquidation_to_total_borrow\"] > 0)"
   ]
  },
  {
   "cell_type": "code",
   "execution_count": null,
   "metadata": {},
   "outputs": [],
   "source": [
    "import plotly.express as px\n",
    "\n",
    "fig = px.scatter(y=df[\"total_liquidation\"], x=df[\"avg_borrow_amount\"])\n",
    "fig.show()"
   ]
  },
  {
   "cell_type": "code",
   "execution_count": null,
   "metadata": {},
   "outputs": [],
   "source": [
    "fig = px.scatter(x=df[\"total_liquidation\"], y=df[\"count_borrow\"])\n",
    "fig.show()"
   ]
  },
  {
   "cell_type": "code",
   "execution_count": null,
   "metadata": {},
   "outputs": [],
   "source": [
    "df.shape[0]"
   ]
  },
  {
   "cell_type": "code",
   "execution_count": null,
   "metadata": {},
   "outputs": [],
   "source": [
    "columns_to_use = [\n",
    "    \"total_borrow\",\n",
    "    \"count_borrow\",\n",
    "    \"avg_borrow_amount\",\n",
    "    \"std_borrow_amount\",\n",
    "    \"borrow_amount_cv\",\n",
    "    \"total_repay\",\n",
    "    \"count_repay\",\n",
    "    \"avg_repay_amount\",\n",
    "    \"std_repay_amount\",\n",
    "    \"repay_amount_cv\",\n",
    "    \"total_deposit\",\n",
    "    \"count_deposit\",\n",
    "    \"avg_deposit_amount\",\n",
    "    \"std_deposit_amount\",\n",
    "    \"deposit_amount_cv\",\n",
    "    \"total_redeem\",\n",
    "    \"count_redeem\",\n",
    "    \"avg_redeem_amount\",\n",
    "    \"std_redeem_amount\",\n",
    "    \"redeem_amount_cv\",\n",
    "    \"days_since_first_borrow\",\n",
    "    \"net_outstanding\",\n",
    "    \"int_paid\",\n",
    "    \"net_deposits\",\n",
    "    \"count_repays_to_count_borrows\",\n",
    "    \"avg_repay_to_avg_borrow\",\n",
    "    \"net_outstanding_to_total_borrowed\",\n",
    "    \"net_outstanding_to_total_repaid\",\n",
    "    \"count_redeems_to_count_deposits\",\n",
    "    \"total_redeemed_to_total_deposits\",\n",
    "    \"avg_redeem_to_avg_deposit\",\n",
    "    \"net_deposits_to_total_deposits\",\n",
    "    \"net_deposits_to_total_redeemed\",\n",
    "    \"dex_total_sum_added\",\n",
    "    \"dex_total_sum_removed\",\n",
    "    \"dex_total_sum_swapped\",\n",
    "    \"total_liquidation_to_total_borrow\"\n",
    "]"
   ]
  },
  {
   "cell_type": "markdown",
   "metadata": {},
   "source": [
    "# Feature Importance"
   ]
  },
  {
   "cell_type": "code",
   "execution_count": null,
   "metadata": {},
   "outputs": [],
   "source": [
    "from sklearn.metrics import mean_squared_error\n",
    "from sklearn.linear_model import LinearRegression\n",
    "from sklearn.tree import DecisionTreeRegressor\n",
    "from sklearn.ensemble import RandomForestRegressor\n",
    "from xgboost import XGBRegressor\n",
    "import math\n",
    "\n",
    "def evaluate_linear_regression(x_train, y_train, x_test, y_test):\n",
    "    m = LinearRegression()\n",
    "    m.fit(X=x_train.to_numpy(), y=y_train.to_numpy())\n",
    "    y_pred = m.predict(x_test.to_numpy())\n",
    "    \n",
    "    mse = mean_squared_error(y_test.to_numpy(), y_pred)\n",
    "    rmse = math.sqrt(mse)\n",
    "\n",
    "    # print(\"Linear Regression RMSE:\", rmse)\n",
    "\n",
    "    # Feature Importance\n",
    "    importance = m.coef_[0]  # Don't know why I needed to add a 0 here\n",
    "    importance = [(columns_to_use[i], v) for i, v in enumerate(importance)]\n",
    "    importance.sort(key=lambda x: -x[1])\n",
    "    # for (k, v) in importance:\n",
    "    #     print('Feature %s, Score: %.5f' % (k, v))\n",
    "\n",
    "    return rmse, importance\n",
    "\n",
    "\n",
    "def evaluate_decision_tree(x_train, y_train, x_test, y_test):\n",
    "    m = DecisionTreeRegressor()\n",
    "    m.fit(X=x_train.to_numpy(), y=y_train.to_numpy())\n",
    "    y_pred = m.predict(x_test.to_numpy())\n",
    "\n",
    "    mse = mean_squared_error(y_test.to_numpy(), y_pred)\n",
    "    rmse = math.sqrt(mse)\n",
    "\n",
    "    # print(\"Decision Tree RMSE:\", rmse)    \n",
    "\n",
    "    importance = m.feature_importances_\n",
    "    importance = [(columns_to_use[i], v) for i, v in enumerate(importance)]\n",
    "    importance.sort(key=lambda x: -x[1])\n",
    "    # for (k, v) in importance:\n",
    "    #     print('Feature %s, Score: %.5f' % (k, v))\n",
    "\n",
    "    return rmse, importance\n",
    "\n",
    "\n",
    "def evaluate_random_forest(x_train, y_train, x_test, y_test):\n",
    "    m = RandomForestRegressor()\n",
    "    m.fit(X=x_train.to_numpy(), y=y_train.to_numpy())\n",
    "\n",
    "    y_pred = m.predict(x_test.to_numpy())\n",
    "\n",
    "    mse = mean_squared_error(y_test.to_numpy(), y_pred)\n",
    "    rmse = math.sqrt(mse)\n",
    "\n",
    "    # print(\"RMSE:\", rmse)\n",
    "\n",
    "    importance = m.feature_importances_\n",
    "    importance = [(columns_to_use[i], v) for i, v in enumerate(importance)]\n",
    "    importance.sort(key=lambda x: -x[1])\n",
    "    # for (k, v) in importance:\n",
    "    #     print('Feature %s, Score: %.5f' % (k, v))\n",
    "\n",
    "    return rmse, importance\n",
    "\n",
    "\n",
    "def evaluate_xg_boost(x_train, y_train, x_test, y_test):\n",
    "    m = XGBRegressor()\n",
    "    m.fit(x_train.to_numpy(), y_train.to_numpy())\n",
    "    y_pred = m.predict(x_test.to_numpy())\n",
    "\n",
    "    mse = mean_squared_error(y_test.to_numpy(), y_pred)\n",
    "    rmse = math.sqrt(mse)\n",
    "\n",
    "    # print(\"RMSE:\", rmse)\n",
    "\n",
    "    importance = m.feature_importances_\n",
    "    importance = [(columns_to_use[i], v) for i, v in enumerate(importance)]\n",
    "    importance.sort(key=lambda x: -x[1])\n",
    "    # for (k, v) in importance:\n",
    "    #     print('Feature %s, Score: %.5f' % (k, v))\n",
    "\n",
    "    return rmse, importance\n",
    "\n",
    "\n",
    "def log_to_file(filename, title, rmse, importance):\n",
    "    with open(filename, \"a\") as f:\n",
    "        f.write(f\"============={title}=============\\n\")\n",
    "        f.write(f\"RMSE: {rmse}\\n\")\n",
    "        for (k, v) in importance:\n",
    "            f.write(\"Feature %s, Score: %.5f\\n\" % (k, v))\n",
    "\n",
    "\n",
    "def get_training_and_test_data(df):\n",
    "    DF = df.select(columns_to_use)\n",
    "\n",
    "    test_size = int(DF.shape[0] * .1)\n",
    "    test_df, train_df = DF.head(test_size), DF.tail(-test_size)\n",
    "\n",
    "    x_train = train_df.select([pl.all().exclude(\"total_liquidation_to_total_borrow\")])\n",
    "    y_train = train_df.select(\"total_liquidation_to_total_borrow\")\n",
    "    x_test = test_df.select([pl.all().exclude(\"total_liquidation_to_total_borrow\")])\n",
    "    y_test = test_df.select(\"total_liquidation_to_total_borrow\")\n",
    "\n",
    "    return x_train, y_train, x_test, y_test"
   ]
  },
  {
   "cell_type": "code",
   "execution_count": null,
   "metadata": {},
   "outputs": [],
   "source": [
    "rmse, importance = evaluate_linear_regression(x_train, y_train, x_test, y_test)\n",
    "log_to_file(\"basic.txt\", \"Linear Regression\", rmse, importance)\n",
    "\n",
    "rmse, importance = evaluate_decision_tree(x_train, y_train, x_test, y_test)\n",
    "log_to_file(\"basic.txt\", \"Decision Tree\", rmse, importance)\n",
    "\n",
    "rmse, importance = evaluate_xg_boost(x_train, y_train, x_test, y_test)\n",
    "log_to_file(\"basic.txt\", \"XGBoost\", rmse, importance)"
   ]
  },
  {
   "cell_type": "code",
   "execution_count": null,
   "metadata": {},
   "outputs": [],
   "source": [
    "# Check if columns have null value\n",
    "DF.select(pl.all().is_null().sum())"
   ]
  },
  {
   "cell_type": "markdown",
   "metadata": {},
   "source": [
    "# Permutation Feature Importance"
   ]
  },
  {
   "cell_type": "code",
   "execution_count": null,
   "metadata": {},
   "outputs": [],
   "source": [
    "from sklearn.neighbors import KNeighborsRegressor\n",
    "from sklearn.inspection import permutation_importance"
   ]
  },
  {
   "cell_type": "code",
   "execution_count": null,
   "metadata": {},
   "outputs": [],
   "source": [
    "m = KNeighborsRegressor()\n",
    "m.fit(x_train.to_numpy(), y_train.to_numpy())"
   ]
  },
  {
   "cell_type": "code",
   "execution_count": null,
   "metadata": {},
   "outputs": [],
   "source": [
    "y_pred = m.predict(x_test.to_numpy())\n",
    "\n",
    "mse = mean_squared_error(y_test.to_numpy(), y_pred)\n",
    "rmse = math.sqrt(mse)\n",
    "\n",
    "print(\"RMSE:\", rmse)"
   ]
  },
  {
   "cell_type": "code",
   "execution_count": null,
   "metadata": {},
   "outputs": [],
   "source": [
    "results = permutation_importance(m, x_train.to_numpy(), y_train.to_numpy(), scoring='neg_mean_squared_error')"
   ]
  },
  {
   "cell_type": "code",
   "execution_count": null,
   "metadata": {},
   "outputs": [],
   "source": [
    "importance = results.importances_mean\n",
    "for i, v in enumerate(importance):\n",
    "    print('Feature %0d, Score: %.5f' % (i, v))"
   ]
  },
  {
   "cell_type": "markdown",
   "metadata": {},
   "source": [
    "# Improvements"
   ]
  },
  {
   "cell_type": "markdown",
   "metadata": {},
   "source": [
    "## 1. DEX Feature importance was 0.\n",
    "Check if just checking activity has any changes."
   ]
  },
  {
   "cell_type": "code",
   "execution_count": null,
   "metadata": {},
   "outputs": [],
   "source": [
    "df.select([\"dex_total_sum_swapped\", \"dex_total_sum_added\", \"dex_total_sum_removed\"]).unique()"
   ]
  },
  {
   "cell_type": "markdown",
   "metadata": {},
   "source": [
    "## 2. Normalize total_* amounts by the total_deposit"
   ]
  },
  {
   "cell_type": "code",
   "execution_count": null,
   "metadata": {},
   "outputs": [],
   "source": [
    "df.select([\"total_borrow\", \"total_repay\", \"total_deposit\", \"total_redeem\"]).head()"
   ]
  },
  {
   "cell_type": "code",
   "execution_count": null,
   "metadata": {},
   "outputs": [],
   "source": [
    "df2 = df.with_columns(\n",
    "    normalized_total_borrow = pl.col(\"total_borrow\") / pl.col(\"total_borrow\"),\n",
    "    normalized_total_repay = pl.col(\"total_repay\") / pl.col(\"total_borrow\"),\n",
    "    normalized_total_deposit = pl.col(\"total_deposit\") / pl.col(\"total_borrow\"),\n",
    "    normalized_total_redeem = pl.col(\"total_redeem\") / pl.col(\"total_borrow\"),\n",
    ")"
   ]
  },
  {
   "cell_type": "code",
   "execution_count": null,
   "metadata": {},
   "outputs": [],
   "source": [
    "columns_to_use = [\n",
    "    \"normalized_total_borrow\",\n",
    "    \"normalized_total_repay\",\n",
    "    \"normalized_total_deposit\",\n",
    "    \"normalized_total_redeem\",\n",
    "    \"total_deposit\",\n",
    "    \"count_borrow\",\n",
    "    \"avg_borrow_amount\",\n",
    "    \"std_borrow_amount\",\n",
    "    \"borrow_amount_cv\",\n",
    "    \"count_repay\",\n",
    "    \"avg_repay_amount\",\n",
    "    \"std_repay_amount\",\n",
    "    \"repay_amount_cv\",\n",
    "    \"count_deposit\",\n",
    "    \"avg_deposit_amount\",\n",
    "    \"std_deposit_amount\",\n",
    "    \"deposit_amount_cv\",\n",
    "    \"count_redeem\",\n",
    "    \"avg_redeem_amount\",\n",
    "    \"std_redeem_amount\",\n",
    "    \"redeem_amount_cv\",\n",
    "    \"days_since_first_borrow\",\n",
    "    \"net_outstanding\",\n",
    "    \"int_paid\",\n",
    "    \"net_deposits\",\n",
    "    \"count_repays_to_count_borrows\",\n",
    "    \"avg_repay_to_avg_borrow\",\n",
    "    \"net_outstanding_to_total_borrowed\",\n",
    "    \"net_outstanding_to_total_repaid\",\n",
    "    \"count_redeems_to_count_deposits\",\n",
    "    \"total_redeemed_to_total_deposits\",\n",
    "    \"avg_redeem_to_avg_deposit\",\n",
    "    \"net_deposits_to_total_deposits\",\n",
    "    \"net_deposits_to_total_redeemed\",\n",
    "    \"total_liquidation_to_total_borrow\"\n",
    "]\n",
    "x_train, y_train, x_test, y_test = get_training_and_test_data(df2)"
   ]
  },
  {
   "cell_type": "code",
   "execution_count": null,
   "metadata": {},
   "outputs": [],
   "source": [
    "# df2.select(pl.all().is_null().sum())\n",
    "df2.select([pl.col(pl.Int64), pl.col(pl.Int32), pl.col(pl.Float32), pl.col(pl.Float64), pl.col(pl.Decimal)]).select(pl.all().is_nan().sum())"
   ]
  },
  {
   "cell_type": "code",
   "execution_count": null,
   "metadata": {},
   "outputs": [],
   "source": [
    "rmse, importance = evaluate_linear_regression(x_train, y_train, x_test, y_test)\n",
    "log_to_file(\"normalized_totals.txt\", \"Linear Regression\", rmse, importance)\n",
    "\n",
    "rmse, importance = evaluate_decision_tree(x_train, y_train, x_test, y_test)\n",
    "log_to_file(\"normalized_totals.txt\", \"Decision Tree\", rmse, importance)\n",
    "\n",
    "rmse, importance = evaluate_xg_boost(x_train, y_train, x_test, y_test)\n",
    "log_to_file(\"normalized_totals.txt\", \"XGBoost\", rmse, importance)"
   ]
  },
  {
   "cell_type": "markdown",
   "metadata": {},
   "source": [
    "## 3. Avg borrow to Total Borrow"
   ]
  },
  {
   "cell_type": "code",
   "execution_count": null,
   "metadata": {},
   "outputs": [],
   "source": [
    "df2 = df.with_columns(\n",
    "    normalized_total_borrow = pl.col(\"total_borrow\") / pl.col(\"total_borrow\"),\n",
    "    normalized_total_repay = pl.col(\"total_repay\") / pl.col(\"total_borrow\"),\n",
    "    normalized_total_deposit = pl.col(\"total_deposit\") / pl.col(\"total_borrow\"),\n",
    "    normalized_total_redeem = pl.col(\"total_redeem\") / pl.col(\"total_borrow\"),\n",
    "    avg_to_total_borrow = pl.col(\"avg_borrow_amount\") / pl.col(\"total_borrow\"),\n",
    "    avg_to_total_repay = pl.col(\"avg_repay_amount\") / pl.col(\"total_repay\"),\n",
    "    avg_to_total_deposit = pl.col(\"avg_deposit_amount\") / pl.col(\"total_deposit\"),\n",
    "    # avg_to_total_redeem = pl.col(\"avg_deposit_amount\") / pl.col(\"total_redeem\"),\n",
    ")"
   ]
  },
  {
   "cell_type": "code",
   "execution_count": null,
   "metadata": {},
   "outputs": [],
   "source": [
    "print(df2.select([pl.col(pl.Int64), pl.col(pl.Int32), pl.col(pl.Float32), pl.col(pl.Float64), pl.col(pl.Decimal)]).select(pl.all().is_infinite().sum()))"
   ]
  },
  {
   "cell_type": "code",
   "execution_count": null,
   "metadata": {},
   "outputs": [],
   "source": [
    "df2 = df2.fill_nan(0)"
   ]
  },
  {
   "cell_type": "code",
   "execution_count": null,
   "metadata": {},
   "outputs": [],
   "source": [
    "columns_to_use = [\n",
    "    \"normalized_total_borrow\",\n",
    "    \"normalized_total_repay\",\n",
    "    \"normalized_total_deposit\",\n",
    "    \"normalized_total_redeem\",\n",
    "    \"avg_to_total_borrow\",\n",
    "    \"avg_to_total_repay\",\n",
    "    \"avg_to_total_deposit\",\n",
    "    # \"avg_to_total_redeem\",\n",
    "    \"total_deposit\",\n",
    "    \"count_borrow\",\n",
    "    \"avg_borrow_amount\",\n",
    "    \"std_borrow_amount\",\n",
    "    \"borrow_amount_cv\",\n",
    "    \"count_repay\",\n",
    "    \"avg_repay_amount\",\n",
    "    \"std_repay_amount\",\n",
    "    \"repay_amount_cv\",\n",
    "    \"count_deposit\",\n",
    "    \"avg_deposit_amount\",\n",
    "    \"std_deposit_amount\",\n",
    "    \"deposit_amount_cv\",\n",
    "    \"count_redeem\",\n",
    "    \"avg_redeem_amount\",\n",
    "    \"std_redeem_amount\",\n",
    "    \"redeem_amount_cv\",\n",
    "    \"days_since_first_borrow\",\n",
    "    \"net_outstanding\",\n",
    "    \"int_paid\",\n",
    "    \"net_deposits\",\n",
    "    \"count_repays_to_count_borrows\",\n",
    "    \"avg_repay_to_avg_borrow\",\n",
    "    \"net_outstanding_to_total_borrowed\",\n",
    "    \"net_outstanding_to_total_repaid\",\n",
    "    \"count_redeems_to_count_deposits\",\n",
    "    \"total_redeemed_to_total_deposits\",\n",
    "    \"avg_redeem_to_avg_deposit\",\n",
    "    \"net_deposits_to_total_deposits\",\n",
    "    \"net_deposits_to_total_redeemed\",\n",
    "    \"total_liquidation_to_total_borrow\"\n",
    "]\n",
    "x_train, y_train, x_test, y_test = get_training_and_test_data(df2)\n",
    "\n",
    "rmse, importance = evaluate_linear_regression(x_train, y_train, x_test, y_test)\n",
    "log_to_file(\"normalized_totals_avg_borrow.txt\", \"Linear Regression\", rmse, importance)\n",
    "\n",
    "rmse, importance = evaluate_decision_tree(x_train, y_train, x_test, y_test)\n",
    "log_to_file(\"normalized_totals_avg_borrow.txt\", \"Decision Tree\", rmse, importance)\n",
    "\n",
    "rmse, importance = evaluate_xg_boost(x_train, y_train, x_test, y_test)\n",
    "log_to_file(\"normalized_totals_avg_borrow.txt\", \"XGBoost\", rmse, importance)"
   ]
  },
  {
   "cell_type": "code",
   "execution_count": null,
   "metadata": {},
   "outputs": [],
   "source": [
    "df.select(pl.all()).describe()"
   ]
  },
  {
   "cell_type": "code",
   "execution_count": null,
   "metadata": {},
   "outputs": [],
   "source": [
    "df2"
   ]
  },
  {
   "cell_type": "code",
   "execution_count": null,
   "metadata": {},
   "outputs": [],
   "source": [
    "import matplotlib.pylab as plt\n",
    "import seaborn as sns\n",
    "plt.style.use('ggplot')"
   ]
  },
  {
   "cell_type": "code",
   "execution_count": null,
   "metadata": {},
   "outputs": [],
   "source": [
    "# count_borrow_values = df['count_borrow'].value_counts().sort(by='count', descending=True)\n",
    "\n",
    "# count_borrow_values = df['count_borrow'].value_counts().sort(by='count_borrow')\n",
    "\n",
    "count_borrow_values = df.filter(pl.col(\"liquidated\") == 1)['count_borrow'].value_counts().sort(by='count_borrow')"
   ]
  },
  {
   "cell_type": "code",
   "execution_count": null,
   "metadata": {},
   "outputs": [],
   "source": [
    "count_borrow_values.to_pandas().plot(kind='bar', title=\"Borrow Counts Frequency\", x='count_borrow', y='count', rot=90)"
   ]
  },
  {
   "cell_type": "code",
   "execution_count": null,
   "metadata": {},
   "outputs": [],
   "source": [
    "count_borrow_values.plot(kind='bar', title=\"Borrow Counts Frequency\", x='count_borrow', y='count', rot=90)"
   ]
  },
  {
   "cell_type": "code",
   "execution_count": null,
   "metadata": {},
   "outputs": [],
   "source": [
    "fig = px.bar(count_borrow_values, x=\"count_borrow\", y=\"count\")\n",
    "fig.show()"
   ]
  },
  {
   "cell_type": "code",
   "execution_count": null,
   "metadata": {},
   "outputs": [],
   "source": [
    "fig = px.bar(x=count_borrow_values[\"count_borrow\"], y=count_borrow_values[\"count\"])\n",
    "fig.show()"
   ]
  },
  {
   "cell_type": "code",
   "execution_count": null,
   "metadata": {},
   "outputs": [],
   "source": [
    "count_borrow_values[\"count\"]"
   ]
  },
  {
   "cell_type": "code",
   "execution_count": null,
   "metadata": {},
   "outputs": [],
   "source": [
    "count_deposit_values = df.filter(pl.col(\"liquidated\") == 1)['count_deposit'].value_counts().sort(by='count_deposit')\n",
    "count_deposit_values.plot(kind='bar', title=\"Borrow Deposit Frequency\", x='count_deposit', y='count', rot=90)"
   ]
  },
  {
   "cell_type": "code",
   "execution_count": null,
   "metadata": {},
   "outputs": [],
   "source": [
    "count_deposit_values = df['count_deposit'].value_counts().sort(by='count_deposit')\n",
    "count_deposit_values.plot(kind='bar', title=\"Borrow Deposit Frequency\", x='count_deposit', y='count', rot=90)"
   ]
  },
  {
   "cell_type": "code",
   "execution_count": null,
   "metadata": {},
   "outputs": [],
   "source": [
    "fig = px.scatter(df, x=\"count_deposit\", y=\"count_borrow\")\n",
    "fig.show()"
   ]
  },
  {
   "cell_type": "code",
   "execution_count": null,
   "metadata": {},
   "outputs": [],
   "source": [
    "fig = px.scatter(df.filter(pl.col(\"liquidated\")==1), x=\"count_deposit\", y=\"count_borrow\")\n",
    "fig.show()"
   ]
  },
  {
   "cell_type": "code",
   "execution_count": null,
   "metadata": {},
   "outputs": [],
   "source": [
    "sns.scatterplot(data=df, x=\"count_deposit\", y=\"count_borrow\", hue=\"liquidated\")"
   ]
  },
  {
   "cell_type": "code",
   "execution_count": null,
   "metadata": {},
   "outputs": [],
   "source": [
    "sns.pairplot(df.to_pandas(), vars=[\"count_deposit\", \"count_borrow\", \"count_repay\", \"count_redeem\"], hue=\"liquidated\")"
   ]
  },
  {
   "cell_type": "code",
   "execution_count": null,
   "metadata": {},
   "outputs": [],
   "source": [
    "sns.pairplot(df.to_pandas(), vars=[\"avg_deposit_amount\", \"avg_borrow_amount\", \"avg_repay_amount\", \"avg_redeem_amount\"], hue=\"liquidated\")"
   ]
  },
  {
   "cell_type": "code",
   "execution_count": null,
   "metadata": {},
   "outputs": [],
   "source": [
    "sns.scatterplot(data=df, x=\"total_deposit\", y=\"avg_borrow_amount\", hue=\"liquidated\")"
   ]
  },
  {
   "cell_type": "code",
   "execution_count": null,
   "metadata": {},
   "outputs": [],
   "source": [
    "df2 = df.with_columns(\n",
    "    normalized_total_borrow = pl.col(\"total_borrow\") / pl.col(\"total_borrow\"),\n",
    "    normalized_total_repay = pl.col(\"total_repay\") / pl.col(\"total_borrow\"),\n",
    "    normalized_total_deposit = pl.col(\"total_deposit\") / pl.col(\"total_borrow\"),\n",
    "    normalized_total_redeem = pl.col(\"total_redeem\") / pl.col(\"total_borrow\"),\n",
    "    total_deposit_by_avg_borrow_amount = pl.col(\"total_deposit\") / pl.col(\"avg_borrow_amount\")\n",
    ")"
   ]
  },
  {
   "cell_type": "code",
   "execution_count": null,
   "metadata": {},
   "outputs": [],
   "source": [
    "columns_to_use = [\n",
    "    \"normalized_total_borrow\",\n",
    "    \"normalized_total_repay\",\n",
    "    \"normalized_total_deposit\",\n",
    "    \"normalized_total_redeem\",\n",
    "    \"total_deposit_by_avg_borrow_amount\",\n",
    "    \"total_deposit\",\n",
    "    \"count_borrow\",\n",
    "    \"avg_borrow_amount\",\n",
    "    \"std_borrow_amount\",\n",
    "    \"borrow_amount_cv\",\n",
    "    \"count_repay\",\n",
    "    \"avg_repay_amount\",\n",
    "    \"std_repay_amount\",\n",
    "    \"repay_amount_cv\",\n",
    "    \"count_deposit\",\n",
    "    \"avg_deposit_amount\",\n",
    "    \"std_deposit_amount\",\n",
    "    \"deposit_amount_cv\",\n",
    "    \"count_redeem\",\n",
    "    \"avg_redeem_amount\",\n",
    "    \"std_redeem_amount\",\n",
    "    \"redeem_amount_cv\",\n",
    "    \"days_since_first_borrow\",\n",
    "    \"net_outstanding\",\n",
    "    \"int_paid\",\n",
    "    \"net_deposits\",\n",
    "    \"count_repays_to_count_borrows\",\n",
    "    \"avg_repay_to_avg_borrow\",\n",
    "    \"net_outstanding_to_total_borrowed\",\n",
    "    \"net_outstanding_to_total_repaid\",\n",
    "    \"count_redeems_to_count_deposits\",\n",
    "    \"total_redeemed_to_total_deposits\",\n",
    "    \"avg_redeem_to_avg_deposit\",\n",
    "    \"net_deposits_to_total_deposits\",\n",
    "    \"net_deposits_to_total_redeemed\",\n",
    "    \"total_liquidation_to_total_borrow\"\n",
    "]\n",
    "x_train, y_train, x_test, y_test = get_training_and_test_data(df2)\n",
    "\n",
    "rmse, importance = evaluate_linear_regression(x_train, y_train, x_test, y_test)\n",
    "log_to_file(\"deposit_avg_borrow.txt\", \"Linear Regression\", rmse, importance)\n",
    "\n",
    "rmse, importance = evaluate_decision_tree(x_train, y_train, x_test, y_test)\n",
    "log_to_file(\"deposit_avg_borrow.txt\", \"Decision Tree\", rmse, importance)\n",
    "\n",
    "rmse, importance = evaluate_xg_boost(x_train, y_train, x_test, y_test)\n",
    "log_to_file(\"deposit_avg_borrow.txt\", \"XGBoost\", rmse, importance)"
   ]
  },
  {
   "cell_type": "code",
   "execution_count": null,
   "metadata": {},
   "outputs": [],
   "source": [
    "sns.pairplot(df.to_pandas(), x_vars=[\"net_deposits\", \"net_outstanding\"], y_vars=[\"avg_deposit_amount\", \"avg_borrow_amount\", \"avg_repay_amount\", \"avg_redeem_amount\"], hue=\"liquidated\")"
   ]
  },
  {
   "cell_type": "code",
   "execution_count": null,
   "metadata": {},
   "outputs": [],
   "source": [
    "sns.pairplot(df.to_pandas(), x_vars=[\"net_deposits\", \"net_outstanding\"], y_vars=[\"avg_deposit_amount\", \"avg_borrow_amount\", \"avg_repay_amount\", \"avg_redeem_amount\"], hue=\"total_liquidation\")"
   ]
  },
  {
   "cell_type": "code",
   "execution_count": null,
   "metadata": {},
   "outputs": [],
   "source": [
    "sns.pairplot(df.to_pandas(), x_vars=[\"net_deposits\", \"net_outstanding\"], y_vars=[\"avg_deposit_amount\", \"avg_borrow_amount\", \"avg_repay_amount\", \"avg_redeem_amount\"], hue=\"total_liquidation_to_total_borrow\")"
   ]
  },
  {
   "cell_type": "code",
   "execution_count": null,
   "metadata": {},
   "outputs": [],
   "source": [
    "df[\"address\"].shape"
   ]
  },
  {
   "cell_type": "code",
   "execution_count": null,
   "metadata": {},
   "outputs": [],
   "source": [
    "df[\"address\"].value_counts().sort(by='count', descending=True)[\"count\"].plot(kind='hist', bins = 40)"
   ]
  },
  {
   "cell_type": "code",
   "execution_count": null,
   "metadata": {},
   "outputs": [],
   "source": [
    "with pl.Config(fmt_str_lengths=1000):\n",
    "    print(df[\"address\"].value_counts().sort(by='count', descending=True).head())"
   ]
  },
  {
   "cell_type": "code",
   "execution_count": null,
   "metadata": {},
   "outputs": [],
   "source": [
    "df.filter(pl.col(\"address\") == \"0x6298f9fd4ae8b64b577dcc56cc72d18f649e3961\")"
   ]
  },
  {
   "cell_type": "code",
   "execution_count": null,
   "metadata": {},
   "outputs": [],
   "source": [
    "df.unique([\"address\", \"count_borrow\"])"
   ]
  },
  {
   "cell_type": "code",
   "execution_count": null,
   "metadata": {},
   "outputs": [],
   "source": [
    "df.unique([\"address\", \"count_borrow\", \"total_liquidation_to_total_borrow\"])"
   ]
  },
  {
   "cell_type": "code",
   "execution_count": null,
   "metadata": {},
   "outputs": [],
   "source": [
    "with pl.Config(fmt_str_lengths=1000):\n",
    "    print(df.unique([\"address\", \"count_borrow\", \"total_liquidation_to_total_borrow\"])[\"address\"].value_counts().sort(by='count', descending=True).head())"
   ]
  },
  {
   "cell_type": "code",
   "execution_count": null,
   "metadata": {},
   "outputs": [],
   "source": [
    "df.unique([\"address\", \"count_borrow\", \"total_liquidation_to_total_borrow\"]).filter(pl.col(\"address\") == \"0x7487f314ebc3a8ab7221a7130560c0734f92a4c6\")"
   ]
  },
  {
   "cell_type": "code",
   "execution_count": null,
   "metadata": {},
   "outputs": [],
   "source": [
    "df.unique([\"address\", \"count_borrow\", \"total_liquidation_to_total_borrow\"]).filter(pl.col(\"address\") == \"0x7487f314ebc3a8ab7221a7130560c0734f92a4c6\").unique(\"liquidated\")"
   ]
  },
  {
   "cell_type": "code",
   "execution_count": null,
   "metadata": {},
   "outputs": [],
   "source": [
    "x_train[\"address\"].set_intersection"
   ]
  },
  {
   "cell_type": "code",
   "execution_count": null,
   "metadata": {},
   "outputs": [],
   "source": []
  }
 ],
 "metadata": {
  "kernelspec": {
   "display_name": "gizagora",
   "language": "python",
   "name": "python3"
  },
  "language_info": {
   "codemirror_mode": {
    "name": "ipython",
    "version": 3
   },
   "file_extension": ".py",
   "mimetype": "text/x-python",
   "name": "python",
   "nbconvert_exporter": "python",
   "pygments_lexer": "ipython3",
   "version": "3.12.3"
  }
 },
 "nbformat": 4,
 "nbformat_minor": 2
}
